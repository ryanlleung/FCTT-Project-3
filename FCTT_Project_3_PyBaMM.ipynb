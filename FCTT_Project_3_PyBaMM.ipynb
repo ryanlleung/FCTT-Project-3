{
  "cells": [
    {
      "cell_type": "markdown",
      "metadata": {
        "id": "e1614daf"
      },
      "source": [
        "# Physics-based battery modelling with PyBaMM\n",
        "\n",
        "Python Battery Mathematical Modelling (PyBaMM) is an open-source software package for physics-based modelling of Li-ion batteries. This notebook will help to demonstrate some of the physical processes happening inside a cell. We will subject a virtual battery to conditions similar to the parameterisation data and drive cycle supplied in this project."
      ]
    },
    {
      "cell_type": "markdown",
      "metadata": {
        "id": "5214c6c3"
      },
      "source": [
        "First, install and import PyBaMM and other Python libraries we may need."
      ]
    },
    {
      "cell_type": "code",
      "execution_count": 1,
      "metadata": {
        "colab": {
          "base_uri": "https://localhost:8080/"
        },
        "id": "8f9e48e6",
        "outputId": "3091de34-ba54-4e39-b6a5-a3a01f9b47d8"
      },
      "outputs": [
        {
          "name": "stdout",
          "output_type": "stream",
          "text": [
            "Note: you may need to restart the kernel to use updated packages.\n"
          ]
        }
      ],
      "source": [
        "%pip install pybamm -q    # install PyBaMM if it is not installed\n",
        "import pybamm\n",
        "%matplotlib inline"
      ]
    },
    {
      "cell_type": "markdown",
      "metadata": {
        "id": "fe03718b"
      },
      "source": [
        "PyBaMM can run a range of physics-based models. The pseudo-2D model, also known as the Doyle-Fuller-Newman model after its inventors, was published in 1993 and has been widely used ever since."
      ]
    },
    {
      "cell_type": "code",
      "execution_count": 2,
      "metadata": {
        "id": "ba6b501b"
      },
      "outputs": [],
      "source": [
        "model = pybamm.lithium_ion.DFN()"
      ]
    },
    {
      "cell_type": "markdown",
      "metadata": {
        "id": "128d347d"
      },
      "source": [
        "The DFN model requires many input parameters. We are going to use the parameters from O'Kane et al. (2022), which were also for a cylindrical cell. Load these parameters but allow the temperature to be varied by the user."
      ]
    },
    {
      "cell_type": "code",
      "execution_count": 3,
      "metadata": {
        "colab": {
          "base_uri": "https://localhost:8080/"
        },
        "id": "78fab3a9",
        "outputId": "2fceeed5-159f-4741-80ea-1d9085d6e9b7"
      },
      "outputs": [
        {
          "data": {
            "text/plain": [
              "{'Ambient temperature [K]': InputParameter(-0x1e86c5900d780302, T, children=[], domains={}),\n",
              " 'Boltzmann constant [J.K-1]': 1.380649e-23,\n",
              " 'Bulk solvent concentration [mol.m-3]': 2636.0,\n",
              " 'Cation transference number': 0.2594,\n",
              " 'Cell cooling surface area [m2]': 0.00531,\n",
              " 'Cell thermal expansion coefficient [m.K-1]': 1.1e-06,\n",
              " 'Cell volume [m3]': 2.42e-05,\n",
              " 'Contact resistance [Ohm]': 0,\n",
              " 'Current function [A]': 5.0,\n",
              " 'Dead lithium decay constant [s-1]': 1e-06,\n",
              " 'Dead lithium decay rate [s-1]': <function SEI_limited_dead_lithium_OKane2022 at 0x2834767a0>,\n",
              " 'EC diffusivity [m2.s-1]': 2e-18,\n",
              " 'EC initial concentration in electrolyte [mol.m-3]': 4541.0,\n",
              " 'Electrode height [m]': 0.065,\n",
              " 'Electrode width [m]': 1.58,\n",
              " 'Electrolyte conductivity [S.m-1]': <function electrolyte_conductivity_Nyman2008_arrhenius at 0x283475f80>,\n",
              " 'Electrolyte diffusivity [m2.s-1]': <function electrolyte_diffusivity_Nyman2008_arrhenius at 0x283476020>,\n",
              " 'Electron charge [C]': 1.602176634e-19,\n",
              " 'Exchange-current density for plating [A.m-2]': <function plating_exchange_current_density_OKane2020 at 0x283476de0>,\n",
              " 'Exchange-current density for stripping [A.m-2]': <function stripping_exchange_current_density_OKane2020 at 0x283476e80>,\n",
              " 'Faraday constant [C.mol-1]': 96485.33212,\n",
              " 'Ideal gas constant [J.K-1.mol-1]': 8.314462618,\n",
              " 'Initial concentration in electrolyte [mol.m-3]': 1000.0,\n",
              " 'Initial concentration in negative electrode [mol.m-3]': 29866.0,\n",
              " 'Initial concentration in positive electrode [mol.m-3]': 17038.0,\n",
              " 'Initial inner SEI thickness [m]': 0.0,\n",
              " 'Initial outer SEI thickness [m]': 5e-09,\n",
              " 'Initial plated lithium concentration [mol.m-3]': 0.0,\n",
              " 'Initial temperature [K]': 298.15,\n",
              " 'Inner SEI electron conductivity [S.m-1]': 8.95e-14,\n",
              " 'Inner SEI lithium interstitial diffusivity [m2.s-1]': 1e-20,\n",
              " 'Inner SEI open-circuit potential [V]': 0.1,\n",
              " 'Inner SEI partial molar volume [m3.mol-1]': 9.585e-05,\n",
              " 'Inner SEI reaction proportion': 0.0,\n",
              " 'Lithium interstitial reference concentration [mol.m-3]': 15.0,\n",
              " 'Lithium metal partial molar volume [m3.mol-1]': 1.3e-05,\n",
              " 'Lithium plating kinetic rate constant [m.s-1]': 1e-09,\n",
              " 'Lithium plating transfer coefficient': 0.65,\n",
              " 'Lower voltage cut-off [V]': 2.5,\n",
              " 'Maximum concentration in negative electrode [mol.m-3]': 33133.0,\n",
              " 'Maximum concentration in positive electrode [mol.m-3]': 63104.0,\n",
              " 'Negative current collector conductivity [S.m-1]': 58411000.0,\n",
              " 'Negative current collector density [kg.m-3]': 8960.0,\n",
              " 'Negative current collector specific heat capacity [J.kg-1.K-1]': 385.0,\n",
              " 'Negative current collector thermal conductivity [W.m-1.K-1]': 401.0,\n",
              " 'Negative current collector thickness [m]': 1.2e-05,\n",
              " 'Negative electrode Bruggeman coefficient (electrode)': 1.5,\n",
              " 'Negative electrode Bruggeman coefficient (electrolyte)': 1.5,\n",
              " 'Negative electrode LAM constant exponential term': 2.0,\n",
              " 'Negative electrode LAM constant proportional term [s-1]': 2.7778e-07,\n",
              " 'Negative electrode OCP [V]': <function graphite_LGM50_ocp_Chen2020 at 0x283475d00>,\n",
              " 'Negative electrode OCP entropic change [V.K-1]': 0.0,\n",
              " \"Negative electrode Paris' law constant b\": 1.12,\n",
              " \"Negative electrode Paris' law constant m\": 2.2,\n",
              " \"Negative electrode Poisson's ratio\": 0.3,\n",
              " \"Negative electrode Young's modulus [Pa]\": 15000000000.0,\n",
              " 'Negative electrode active material volume fraction': 0.75,\n",
              " 'Negative electrode charge transfer coefficient': 0.5,\n",
              " 'Negative electrode conductivity [S.m-1]': 215.0,\n",
              " 'Negative electrode cracking rate': <function graphite_cracking_rate_Ai2020 at 0x2834763e0>,\n",
              " 'Negative electrode critical stress [Pa]': 60000000.0,\n",
              " 'Negative electrode density [kg.m-3]': 1657.0,\n",
              " 'Negative electrode diffusivity [m2.s-1]': <function graphite_LGM50_diffusivity_Chen2020 at 0x2834765c0>,\n",
              " 'Negative electrode double-layer capacity [F.m-2]': 0.2,\n",
              " 'Negative electrode exchange-current density [A.m-2]': <function graphite_LGM50_electrolyte_exchange_current_density_Chen2020 at 0x283476520>,\n",
              " 'Negative electrode initial crack length [m]': 2e-08,\n",
              " 'Negative electrode initial crack width [m]': 1.5e-08,\n",
              " 'Negative electrode number of cracks per unit area [m-2]': 3180000000000000.0,\n",
              " 'Negative electrode partial molar volume [m3.mol-1]': 3.1e-06,\n",
              " 'Negative electrode porosity': 0.25,\n",
              " 'Negative electrode reaction-driven LAM factor [m3.mol-1]': 0.0,\n",
              " 'Negative electrode reference concentration for free of deformation [mol.m-3]': 0.0,\n",
              " 'Negative electrode specific heat capacity [J.kg-1.K-1]': 700.0,\n",
              " 'Negative electrode thermal conductivity [W.m-1.K-1]': 1.7,\n",
              " 'Negative electrode thickness [m]': 8.52e-05,\n",
              " 'Negative electrode volume change': <function graphite_volume_change_Ai2020 at 0x283476480>,\n",
              " 'Negative particle radius [m]': 5.86e-06,\n",
              " 'Nominal cell capacity [A.h]': 5.0,\n",
              " 'Number of cells connected in series to make a battery': 1.0,\n",
              " 'Number of electrodes connected in parallel to make a cell': 1.0,\n",
              " 'Open-circuit voltage at 0% SOC [V]': 2.5,\n",
              " 'Open-circuit voltage at 100% SOC [V]': 4.2,\n",
              " 'Outer SEI open-circuit potential [V]': 0.8,\n",
              " 'Outer SEI partial molar volume [m3.mol-1]': 9.585e-05,\n",
              " 'Outer SEI solvent diffusivity [m2.s-1]': 2.5000000000000002e-22,\n",
              " 'Positive current collector conductivity [S.m-1]': 36914000.0,\n",
              " 'Positive current collector density [kg.m-3]': 2700.0,\n",
              " 'Positive current collector specific heat capacity [J.kg-1.K-1]': 897.0,\n",
              " 'Positive current collector thermal conductivity [W.m-1.K-1]': 237.0,\n",
              " 'Positive current collector thickness [m]': 1.6e-05,\n",
              " 'Positive electrode Bruggeman coefficient (electrode)': 1.5,\n",
              " 'Positive electrode Bruggeman coefficient (electrolyte)': 1.5,\n",
              " 'Positive electrode LAM constant exponential term': 2.0,\n",
              " 'Positive electrode LAM constant proportional term [s-1]': 2.7778e-07,\n",
              " 'Positive electrode OCP [V]': <function nmc_LGM50_ocp_Chen2020 at 0x2834762a0>,\n",
              " 'Positive electrode OCP entropic change [V.K-1]': 0.0,\n",
              " \"Positive electrode Paris' law constant b\": 1.12,\n",
              " \"Positive electrode Paris' law constant m\": 2.2,\n",
              " \"Positive electrode Poisson's ratio\": 0.2,\n",
              " \"Positive electrode Young's modulus [Pa]\": 375000000000.0,\n",
              " 'Positive electrode active material volume fraction': 0.665,\n",
              " 'Positive electrode charge transfer coefficient': 0.5,\n",
              " 'Positive electrode conductivity [S.m-1]': 0.18,\n",
              " 'Positive electrode cracking rate': <function cracking_rate_Ai2020 at 0x2834760c0>,\n",
              " 'Positive electrode critical stress [Pa]': 375000000.0,\n",
              " 'Positive electrode density [kg.m-3]': 3262.0,\n",
              " 'Positive electrode diffusivity [m2.s-1]': <function nmc_LGM50_diffusivity_Chen2020 at 0x283476340>,\n",
              " 'Positive electrode double-layer capacity [F.m-2]': 0.2,\n",
              " 'Positive electrode exchange-current density [A.m-2]': <function nmc_LGM50_electrolyte_exchange_current_density_Chen2020 at 0x283476200>,\n",
              " 'Positive electrode initial crack length [m]': 2e-08,\n",
              " 'Positive electrode initial crack width [m]': 1.5e-08,\n",
              " 'Positive electrode number of cracks per unit area [m-2]': 3180000000000000.0,\n",
              " 'Positive electrode partial molar volume [m3.mol-1]': 1.25e-05,\n",
              " 'Positive electrode porosity': 0.335,\n",
              " 'Positive electrode reaction-driven LAM factor [m3.mol-1]': 0.0,\n",
              " 'Positive electrode reference concentration for free of deformation [mol.m-3]': 0.0,\n",
              " 'Positive electrode specific heat capacity [J.kg-1.K-1]': 700.0,\n",
              " 'Positive electrode thermal conductivity [W.m-1.K-1]': 2.1,\n",
              " 'Positive electrode thickness [m]': 7.56e-05,\n",
              " 'Positive electrode volume change': <function volume_change_Ai2020 at 0x283476160>,\n",
              " 'Positive particle radius [m]': 5.22e-06,\n",
              " 'Ratio of lithium moles to SEI moles': 1.0,\n",
              " 'Reference temperature [K]': 298.15,\n",
              " 'SEI growth activation energy [J.mol-1]': 38000.0,\n",
              " 'SEI kinetic rate constant [m.s-1]': 1e-12,\n",
              " 'SEI open-circuit potential [V]': 0.4,\n",
              " 'SEI reaction exchange current density [A.m-2]': 1.5e-07,\n",
              " 'SEI resistivity [Ohm.m]': 200000.0,\n",
              " 'Separator Bruggeman coefficient (electrolyte)': 1.5,\n",
              " 'Separator density [kg.m-3]': 397.0,\n",
              " 'Separator porosity': 0.47,\n",
              " 'Separator specific heat capacity [J.kg-1.K-1]': 700.0,\n",
              " 'Separator thermal conductivity [W.m-1.K-1]': 0.16,\n",
              " 'Separator thickness [m]': 1.2e-05,\n",
              " 'Thermodynamic factor': 1.0,\n",
              " 'Total heat transfer coefficient [W.m-2.K-1]': 10.0,\n",
              " 'Typical plated lithium concentration [mol.m-3]': 1000.0,\n",
              " 'Upper voltage cut-off [V]': 4.2,\n",
              " 'citations': ['OKane2022',\n",
              "               'OKane2020',\n",
              "               'Chen2020']}"
            ]
          },
          "execution_count": 3,
          "metadata": {},
          "output_type": "execute_result"
        }
      ],
      "source": [
        "param = pybamm.ParameterValues(\"OKane2022\")\n",
        "param[\"Ambient temperature [K]\"] = pybamm.InputParameter(\"T\")\n",
        "param"
      ]
    },
    {
      "cell_type": "markdown",
      "metadata": {
        "id": "IS28za_tcEnT"
      },
      "source": [
        "We will use the Experiment class to define the simulation conditions."
      ]
    },
    {
      "cell_type": "code",
      "execution_count": 4,
      "metadata": {
        "id": "N0x0sfleauXG"
      },
      "outputs": [],
      "source": [
        "exp = pybamm.Experiment([\n",
        "    \"Rest for 10 seconds (0.1s period)\",\n",
        "    \"Discharge at 2C for 1 minutes (0.1s period)\",\n",
        "    \"Rest for 2 minutes (0.1s period)\",\n",
        "])"
      ]
    },
    {
      "cell_type": "markdown",
      "metadata": {
        "id": "9a2e449f"
      },
      "source": [
        "Specify the mesh. Many problems in PyBaMM can be solved by increasing r_n or r_p."
      ]
    },
    {
      "cell_type": "code",
      "execution_count": 5,
      "metadata": {
        "id": "1825123a"
      },
      "outputs": [],
      "source": [
        "var_pts = {\n",
        "    \"x_n\": 40, # electrode cells\n",
        "    \"x_s\": 40, # electrolyte\n",
        "    \"x_p\": 40, # electrode\n",
        "    \"r_n\": 40, # cells inside sphere\n",
        "    \"r_p\": 40, # cells inside sphere\n",
        "}"
      ]
    },
    {
      "cell_type": "markdown",
      "metadata": {
        "id": "51884c1d"
      },
      "source": [
        "Create a Simulation class using the model, parameter values, Experiment and mesh defined earlier, then solve it! Because temperature was set to be an input parameter, it must be fed into the solve() command every time."
      ]
    },
    {
      "cell_type": "code",
      "execution_count": 6,
      "metadata": {
        "id": "21ea1735"
      },
      "outputs": [],
      "source": [
        "sim = pybamm.Simulation(model=model, parameter_values=param, experiment=exp, var_pts=var_pts)\n",
        "sol = sim.solve(inputs={\"T\": 298.15})  #25 Celsius"
      ]
    },
    {
      "cell_type": "markdown",
      "metadata": {},
      "source": [
        "Figure 1: Plot the components that make up the voltage drop during the pulse."
      ]
    },
    {
      "cell_type": "code",
      "execution_count": 7,
      "metadata": {},
      "outputs": [
        {
          "data": {
            "image/png": "[encoded data removed]",
            "text/plain": [
              "<Figure size 800x400 with 1 Axes>"
            ]
          },
          "metadata": {},
          "output_type": "display_data"
        }
      ],
      "source": [
        "pl = pybamm.plot_voltage_components(sol)"
      ]
    },
    {
      "cell_type": "markdown",
      "metadata": {},
      "source": [
        "Figure 2: plot the concentrations of lithium inside the cell. $x$ is the axis between the negative and positive current collectors. $r$ is the radial position in the electrode particles. Drag the slider to see the distribution of lithium at different times during the pulse."
      ]
    },
    {
      "cell_type": "code",
      "execution_count": 1,
      "metadata": {
        "colab": {
          "base_uri": "https://localhost:8080/",
          "height": 1000,
          "referenced_widgets": [
            "e5a7fc60a57446f0b17183978798c05b",
            "842c706e8fc2401689d1fce3f241aabe",
            "e6029820554e4fe59c6f826ba2b39720",
            "aca40d4542c64f59a6c2602843d82b26",
            "de32573319964691919cbd53ea90639a",
            "e71f54fafebb4612999410f86fc54820",
            "f935b578cc1a410d91affd2175f87e55"
          ]
        },
        "id": "UFO3GfXAlK-h",
        "outputId": "3f46b7a5-488b-4786-a6b9-bbb04352b3b0"
      },
      "outputs": [
        {
          "ename": "NameError",
          "evalue": "name 'pybamm' is not defined",
          "output_type": "error",
          "traceback": [
            "\u001b[0;31m---------------------------------------------------------------------------\u001b[0m",
            "\u001b[0;31mNameError\u001b[0m                                 Traceback (most recent call last)",
            "Cell \u001b[0;32mIn[1], line 8\u001b[0m\n\u001b[1;32m      1\u001b[0m output_variables \u001b[38;5;241m=\u001b[39m [\n\u001b[1;32m      2\u001b[0m         \u001b[38;5;124m\"\u001b[39m\u001b[38;5;124mNegative particle concentration [mol.m-3]\u001b[39m\u001b[38;5;124m\"\u001b[39m,\n\u001b[1;32m      3\u001b[0m         \u001b[38;5;124m\"\u001b[39m\u001b[38;5;124mElectrolyte concentration [mol.m-3]\u001b[39m\u001b[38;5;124m\"\u001b[39m,\n\u001b[0;32m   (...)\u001b[0m\n\u001b[1;32m      6\u001b[0m         \u001b[38;5;124m\"\u001b[39m\u001b[38;5;124mVoltage [V]\u001b[39m\u001b[38;5;124m\"\u001b[39m,\n\u001b[1;32m      7\u001b[0m     ]\n\u001b[0;32m----> 8\u001b[0m quick_plot \u001b[38;5;241m=\u001b[39m \u001b[43mpybamm\u001b[49m\u001b[38;5;241m.\u001b[39mQuickPlot(\n\u001b[1;32m      9\u001b[0m     sol,output_variables,variable_limits\u001b[38;5;241m=\u001b[39m\u001b[38;5;124m'\u001b[39m\u001b[38;5;124mfixed\u001b[39m\u001b[38;5;124m'\u001b[39m,   \u001b[38;5;66;03m# variable_limits='tight',\u001b[39;00m\n\u001b[1;32m     10\u001b[0m     time_unit\u001b[38;5;241m=\u001b[39m\u001b[38;5;124m'\u001b[39m\u001b[38;5;124mhours\u001b[39m\u001b[38;5;124m'\u001b[39m,n_rows\u001b[38;5;241m=\u001b[39m\u001b[38;5;241m2\u001b[39m) \u001b[38;5;66;03m#figsize = (18,12),\u001b[39;00m\n\u001b[1;32m     12\u001b[0m fig \u001b[38;5;241m=\u001b[39m quick_plot\u001b[38;5;241m.\u001b[39mdynamic_plot()\n",
            "\u001b[0;31mNameError\u001b[0m: name 'pybamm' is not defined"
          ]
        }
      ],
      "source": [
        "output_variables = [\n",
        "        \"Negative particle concentration [mol.m-3]\",\n",
        "        \"Electrolyte concentration [mol.m-3]\",\n",
        "        \"Positive particle concentration [mol.m-3]\",\n",
        "        \"Current [A]\",\n",
        "        \"Voltage [V]\",\n",
        "    ]\n",
        "quick_plot = pybamm.QuickPlot(\n",
        "    sol,output_variables,variable_limits='fixed',   # variable_limits='tight',\n",
        "    time_unit='hours',n_rows=2) #figsize = (18,12),\n",
        "\n",
        "fig = quick_plot.dynamic_plot()"
      ]
    }
  ],
  "metadata": {
    "colab": {
      "provenance": []
    },
    "kernelspec": {
      "display_name": "Python 3",
      "name": "python3"
    },
    "language_info": {
      "codemirror_mode": {
        "name": "ipython",
        "version": 3
      },
      "file_extension": ".py",
      "mimetype": "text/x-python",
      "name": "python",
      "nbconvert_exporter": "python",
      "pygments_lexer": "ipython3",
      "version": "3.11.7"
    },
    "widgets": {
      "application/vnd.jupyter.widget-state+json": {
        "842c706e8fc2401689d1fce3f241aabe": {
          "model_module": "@jupyter-widgets/controls",
          "model_module_version": "1.5.0",
          "model_name": "FloatSliderModel",
          "state": {
            "_dom_classes": [],
            "_model_module": "@jupyter-widgets/controls",
            "_model_module_version": "1.5.0",
            "_model_name": "FloatSliderModel",
            "_view_count": null,
            "_view_module": "@jupyter-widgets/controls",
            "_view_module_version": "1.5.0",
            "_view_name": "FloatSliderView",
            "continuous_update": true,
            "description": "t",
            "description_tooltip": null,
            "disabled": false,
            "layout": "IPY_MODEL_de32573319964691919cbd53ea90639a",
            "max": 0.9416666666666667,
            "min": 0.6000000000002778,
            "orientation": "horizontal",
            "readout": true,
            "readout_format": ".2f",
            "step": 0.009416666666666667,
            "style": "IPY_MODEL_e71f54fafebb4612999410f86fc54820",
            "value": 0.6565
          }
        },
        "aca40d4542c64f59a6c2602843d82b26": {
          "model_module": "@jupyter-widgets/base",
          "model_module_version": "1.2.0",
          "model_name": "LayoutModel",
          "state": {
            "_model_module": "@jupyter-widgets/base",
            "_model_module_version": "1.2.0",
            "_model_name": "LayoutModel",
            "_view_count": null,
            "_view_module": "@jupyter-widgets/base",
            "_view_module_version": "1.2.0",
            "_view_name": "LayoutView",
            "align_content": null,
            "align_items": null,
            "align_self": null,
            "border": null,
            "bottom": null,
            "display": null,
            "flex": null,
            "flex_flow": null,
            "grid_area": null,
            "grid_auto_columns": null,
            "grid_auto_flow": null,
            "grid_auto_rows": null,
            "grid_column": null,
            "grid_gap": null,
            "grid_row": null,
            "grid_template_areas": null,
            "grid_template_columns": null,
            "grid_template_rows": null,
            "height": null,
            "justify_content": null,
            "justify_items": null,
            "left": null,
            "margin": null,
            "max_height": null,
            "max_width": null,
            "min_height": null,
            "min_width": null,
            "object_fit": null,
            "object_position": null,
            "order": null,
            "overflow": null,
            "overflow_x": null,
            "overflow_y": null,
            "padding": null,
            "right": null,
            "top": null,
            "visibility": null,
            "width": null
          }
        },
        "de32573319964691919cbd53ea90639a": {
          "model_module": "@jupyter-widgets/base",
          "model_module_version": "1.2.0",
          "model_name": "LayoutModel",
          "state": {
            "_model_module": "@jupyter-widgets/base",
            "_model_module_version": "1.2.0",
            "_model_name": "LayoutModel",
            "_view_count": null,
            "_view_module": "@jupyter-widgets/base",
            "_view_module_version": "1.2.0",
            "_view_name": "LayoutView",
            "align_content": null,
            "align_items": null,
            "align_self": null,
            "border": null,
            "bottom": null,
            "display": null,
            "flex": null,
            "flex_flow": null,
            "grid_area": null,
            "grid_auto_columns": null,
            "grid_auto_flow": null,
            "grid_auto_rows": null,
            "grid_column": null,
            "grid_gap": null,
            "grid_row": null,
            "grid_template_areas": null,
            "grid_template_columns": null,
            "grid_template_rows": null,
            "height": null,
            "justify_content": null,
            "justify_items": null,
            "left": null,
            "margin": null,
            "max_height": null,
            "max_width": null,
            "min_height": null,
            "min_width": null,
            "object_fit": null,
            "object_position": null,
            "order": null,
            "overflow": null,
            "overflow_x": null,
            "overflow_y": null,
            "padding": null,
            "right": null,
            "top": null,
            "visibility": null,
            "width": null
          }
        },
        "e5a7fc60a57446f0b17183978798c05b": {
          "model_module": "@jupyter-widgets/controls",
          "model_module_version": "1.5.0",
          "model_name": "VBoxModel",
          "state": {
            "_dom_classes": [
              "widget-interact"
            ],
            "_model_module": "@jupyter-widgets/controls",
            "_model_module_version": "1.5.0",
            "_model_name": "VBoxModel",
            "_view_count": null,
            "_view_module": "@jupyter-widgets/controls",
            "_view_module_version": "1.5.0",
            "_view_name": "VBoxView",
            "box_style": "",
            "children": [
              "IPY_MODEL_842c706e8fc2401689d1fce3f241aabe",
              "IPY_MODEL_e6029820554e4fe59c6f826ba2b39720"
            ],
            "layout": "IPY_MODEL_aca40d4542c64f59a6c2602843d82b26"
          }
        },
        "e6029820554e4fe59c6f826ba2b39720": {
          "model_module": "@jupyter-widgets/output",
          "model_module_version": "1.0.0",
          "model_name": "OutputModel",
          "state": {
            "_dom_classes": [],
            "_model_module": "@jupyter-widgets/output",
            "_model_module_version": "1.0.0",
            "_model_name": "OutputModel",
            "_view_count": null,
            "_view_module": "@jupyter-widgets/output",
            "_view_module_version": "1.0.0",
            "_view_name": "OutputView",
            "layout": "IPY_MODEL_f935b578cc1a410d91affd2175f87e55",
            "msg_id": "",
            "outputs": []
          }
        },
        "e71f54fafebb4612999410f86fc54820": {
          "model_module": "@jupyter-widgets/controls",
          "model_module_version": "1.5.0",
          "model_name": "SliderStyleModel",
          "state": {
            "_model_module": "@jupyter-widgets/controls",
            "_model_module_version": "1.5.0",
            "_model_name": "SliderStyleModel",
            "_view_count": null,
            "_view_module": "@jupyter-widgets/base",
            "_view_module_version": "1.2.0",
            "_view_name": "StyleView",
            "description_width": "",
            "handle_color": null
          }
        },
        "f935b578cc1a410d91affd2175f87e55": {
          "model_module": "@jupyter-widgets/base",
          "model_module_version": "1.2.0",
          "model_name": "LayoutModel",
          "state": {
            "_model_module": "@jupyter-widgets/base",
            "_model_module_version": "1.2.0",
            "_model_name": "LayoutModel",
            "_view_count": null,
            "_view_module": "@jupyter-widgets/base",
            "_view_module_version": "1.2.0",
            "_view_name": "LayoutView",
            "align_content": null,
            "align_items": null,
            "align_self": null,
            "border": null,
            "bottom": null,
            "display": null,
            "flex": null,
            "flex_flow": null,
            "grid_area": null,
            "grid_auto_columns": null,
            "grid_auto_flow": null,
            "grid_auto_rows": null,
            "grid_column": null,
            "grid_gap": null,
            "grid_row": null,
            "grid_template_areas": null,
            "grid_template_columns": null,
            "grid_template_rows": null,
            "height": null,
            "justify_content": null,
            "justify_items": null,
            "left": null,
            "margin": null,
            "max_height": null,
            "max_width": null,
            "min_height": null,
            "min_width": null,
            "object_fit": null,
            "object_position": null,
            "order": null,
            "overflow": null,
            "overflow_x": null,
            "overflow_y": null,
            "padding": null,
            "right": null,
            "top": null,
            "visibility": null,
            "width": null
          }
        }
      }
    }
  },
  "nbformat": 4,
  "nbformat_minor": 0
}
